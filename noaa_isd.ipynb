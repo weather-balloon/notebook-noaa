{
  "cells": [
    {
      "metadata": {
        "trusted": true
      },
      "cell_type": "code",
      "source": "# refer to https://notebooks.azure.com/help/jupyter-notebooks/package-installation",
      "execution_count": 69,
      "outputs": [
        {
          "output_type": "stream",
          "text": "Collecting pandas>=0.25\n  Using cached https://files.pythonhosted.org/packages/1d/9a/7eb9952f4b4d73fbd75ad1d5d6112f407e695957444cb695cbb3cdab918a/pandas-0.25.0-cp36-cp36m-manylinux1_x86_64.whl\nRequirement already satisfied: pytz>=2017.2 in /data/anaconda/envs/py36/lib/python3.6/site-packages (from pandas>=0.25) (2019.1)\nRequirement already satisfied: numpy>=1.13.3 in /data/anaconda/envs/py36/lib/python3.6/site-packages (from pandas>=0.25) (1.16.2)\nRequirement already satisfied: python-dateutil>=2.6.1 in /data/anaconda/envs/py36/lib/python3.6/site-packages (from pandas>=0.25) (2.8.0)\nRequirement already satisfied: six>=1.5 in /data/anaconda/envs/py36/lib/python3.6/site-packages (from python-dateutil>=2.6.1->pandas>=0.25) (1.12.0)\n\u001b[31mERROR: azureml-train-automl 1.0.45.1 has requirement azureml-core==1.0.45.*, but you'll have azureml-core 1.0.55 which is incompatible.\u001b[0m\n\u001b[31mERROR: azureml-train-automl 1.0.45.1 has requirement azureml-telemetry==1.0.45.*, but you'll have azureml-telemetry 1.0.55 which is incompatible.\u001b[0m\n\u001b[31mERROR: azureml-train-automl 1.0.45.1 has requirement pandas<=0.23.4,>=0.21.0, but you'll have pandas 0.25.0 which is incompatible.\u001b[0m\n\u001b[31mERROR: azureml-opendatasets 1.0.55 has requirement pandas<=0.23.4,>=0.21.0, but you'll have pandas 0.25.0 which is incompatible.\u001b[0m\n\u001b[31mERROR: azureml-contrib-opendatasets 1.0.45 has requirement azureml-telemetry==1.0.45.*, but you'll have azureml-telemetry 1.0.55 which is incompatible.\u001b[0m\n\u001b[31mERROR: azureml-automl-core 1.0.45.1 has requirement pandas<=0.23.4,>=0.21.0, but you'll have pandas 0.25.0 which is incompatible.\u001b[0m\nInstalling collected packages: pandas\n  Found existing installation: pandas 0.23.4\n    Uninstalling pandas-0.23.4:\n      Successfully uninstalled pandas-0.23.4\nSuccessfully installed pandas-0.25.0\n",
          "name": "stdout"
        }
      ]
    },
    {
      "metadata": {
        "trusted": true
      },
      "cell_type": "code",
      "source": "!pip install azureml-core azureml-telemetry ",
      "execution_count": 70,
      "outputs": [
        {
          "output_type": "stream",
          "text": "Requirement already satisfied: azureml-core in /data/anaconda/envs/py36/lib/python3.6/site-packages (1.0.55)\nRequirement already satisfied: azureml-telemetry in /data/anaconda/envs/py36/lib/python3.6/site-packages (1.0.55)\nRequirement already satisfied: msrest>=0.5.1 in /data/anaconda/envs/py36/lib/python3.6/site-packages (from azureml-core) (0.6.8)\nRequirement already satisfied: azure-mgmt-authorization>=0.40.0 in /data/anaconda/envs/py36/lib/python3.6/site-packages (from azureml-core) (0.60.0)\nRequirement already satisfied: jmespath in /data/anaconda/envs/py36/lib/python3.6/site-packages (from azureml-core) (0.9.4)\nRequirement already satisfied: ruamel.yaml<=0.15.89,>=0.15.35 in /data/anaconda/envs/py36/lib/python3.6/site-packages (from azureml-core) (0.15.89)\nRequirement already satisfied: azure-mgmt-resource>=1.2.1 in /data/anaconda/envs/py36/lib/python3.6/site-packages (from azureml-core) (3.0.0)\nRequirement already satisfied: azure-mgmt-storage>=1.5.0 in /data/anaconda/envs/py36/lib/python3.6/site-packages (from azureml-core) (4.0.0)\nRequirement already satisfied: PyJWT in /data/anaconda/envs/py36/lib/python3.6/site-packages (from azureml-core) (1.7.1)\nRequirement already satisfied: adal>=1.2.0 in /data/anaconda/envs/py36/lib/python3.6/site-packages (from azureml-core) (1.2.2)\nRequirement already satisfied: backports.tempfile in /data/anaconda/envs/py36/lib/python3.6/site-packages (from azureml-core) (1.0)\nRequirement already satisfied: azure-graphrbac>=0.40.0 in /data/anaconda/envs/py36/lib/python3.6/site-packages (from azureml-core) (0.61.1)\nRequirement already satisfied: cryptography!=1.9,!=2.0.*,!=2.1.*,!=2.2.* in /data/anaconda/envs/py36/lib/python3.6/site-packages (from azureml-core) (2.7)\nRequirement already satisfied: SecretStorage in /data/anaconda/envs/py36/lib/python3.6/site-packages (from azureml-core) (3.1.1)\nRequirement already satisfied: azure-mgmt-keyvault>=0.40.0 in /data/anaconda/envs/py36/lib/python3.6/site-packages (from azureml-core) (2.0.0)\nRequirement already satisfied: msrestazure>=0.4.33 in /data/anaconda/envs/py36/lib/python3.6/site-packages (from azureml-core) (0.6.1)\nRequirement already satisfied: six>=1.11.0 in /data/anaconda/envs/py36/lib/python3.6/site-packages (from azureml-core) (1.12.0)\nRequirement already satisfied: urllib3>=1.23 in /data/anaconda/envs/py36/lib/python3.6/site-packages (from azureml-core) (1.25.3)\nRequirement already satisfied: requests>=2.19.1 in /data/anaconda/envs/py36/lib/python3.6/site-packages (from azureml-core) (2.22.0)\nRequirement already satisfied: pyopenssl in /data/anaconda/envs/py36/lib/python3.6/site-packages (from azureml-core) (19.0.0)\nRequirement already satisfied: pytz in /data/anaconda/envs/py36/lib/python3.6/site-packages (from azureml-core) (2019.1)\nRequirement already satisfied: python-dateutil>=2.7.3 in /data/anaconda/envs/py36/lib/python3.6/site-packages (from azureml-core) (2.8.0)\nRequirement already satisfied: jsonpickle in /data/anaconda/envs/py36/lib/python3.6/site-packages (from azureml-core) (1.2)\nRequirement already satisfied: azure-mgmt-containerregistry>=2.0.0 in /data/anaconda/envs/py36/lib/python3.6/site-packages (from azureml-core) (2.8.0)\nRequirement already satisfied: azure-common>=1.1.12 in /data/anaconda/envs/py36/lib/python3.6/site-packages (from azureml-core) (1.1.23)\nRequirement already satisfied: contextlib2 in /data/anaconda/envs/py36/lib/python3.6/site-packages (from azureml-core) (0.5.5)\nRequirement already satisfied: docker in /data/anaconda/envs/py36/lib/python3.6/site-packages (from azureml-core) (4.0.2)\nRequirement already satisfied: ndg-httpsclient in /data/anaconda/envs/py36/lib/python3.6/site-packages (from azureml-core) (0.5.1)\nRequirement already satisfied: pathspec in /data/anaconda/envs/py36/lib/python3.6/site-packages (from azureml-core) (0.5.9)\nRequirement already satisfied: applicationinsights in /data/anaconda/envs/py36/lib/python3.6/site-packages (from azureml-telemetry) (0.11.9)\nRequirement already satisfied: certifi>=2017.4.17 in /data/anaconda/envs/py36/lib/python3.6/site-packages (from msrest>=0.5.1->azureml-core) (2019.6.16)\nRequirement already satisfied: requests-oauthlib>=0.5.0 in /data/anaconda/envs/py36/lib/python3.6/site-packages (from msrest>=0.5.1->azureml-core) (1.2.0)\nRequirement already satisfied: isodate>=0.6.0 in /data/anaconda/envs/py36/lib/python3.6/site-packages (from msrest>=0.5.1->azureml-core) (0.6.0)\nRequirement already satisfied: backports.weakref in /data/anaconda/envs/py36/lib/python3.6/site-packages (from backports.tempfile->azureml-core) (1.0.post1)\nRequirement already satisfied: cffi!=1.11.3,>=1.8 in /data/anaconda/envs/py36/lib/python3.6/site-packages (from cryptography!=1.9,!=2.0.*,!=2.1.*,!=2.2.*->azureml-core) (1.12.3)\nRequirement already satisfied: asn1crypto>=0.21.0 in /data/anaconda/envs/py36/lib/python3.6/site-packages (from cryptography!=1.9,!=2.0.*,!=2.1.*,!=2.2.*->azureml-core) (0.24.0)\nRequirement already satisfied: jeepney in /data/anaconda/envs/py36/lib/python3.6/site-packages (from SecretStorage->azureml-core) (0.4)\nRequirement already satisfied: idna<2.9,>=2.5 in /data/anaconda/envs/py36/lib/python3.6/site-packages (from requests>=2.19.1->azureml-core) (2.8)\nRequirement already satisfied: chardet<3.1.0,>=3.0.2 in /data/anaconda/envs/py36/lib/python3.6/site-packages (from requests>=2.19.1->azureml-core) (3.0.4)\nRequirement already satisfied: websocket-client>=0.32.0 in /data/anaconda/envs/py36/lib/python3.6/site-packages (from docker->azureml-core) (0.56.0)\nRequirement already satisfied: pyasn1>=0.1.1 in /data/anaconda/envs/py36/lib/python3.6/site-packages (from ndg-httpsclient->azureml-core) (0.4.5)\nRequirement already satisfied: oauthlib>=3.0.0 in /data/anaconda/envs/py36/lib/python3.6/site-packages (from requests-oauthlib>=0.5.0->msrest>=0.5.1->azureml-core) (3.0.2)\nRequirement already satisfied: pycparser in /data/anaconda/envs/py36/lib/python3.6/site-packages (from cffi!=1.11.3,>=1.8->cryptography!=1.9,!=2.0.*,!=2.1.*,!=2.2.*->azureml-core) (2.19)\n",
          "name": "stdout"
        }
      ]
    },
    {
      "metadata": {
        "trusted": true,
        "scrolled": true
      },
      "cell_type": "code",
      "source": "!pip install azureml.opendatasets",
      "execution_count": 71,
      "outputs": [
        {
          "output_type": "stream",
          "text": "Collecting azureml.opendatasets\n  Using cached https://files.pythonhosted.org/packages/65/9f/6ebc770fa1eef551aacfdcaaf2b060bde4be2f35a78568416073dc0bc06f/azureml_opendatasets-1.0.55-py3-none-any.whl\nRequirement already satisfied: azureml-telemetry==1.0.55.* in /data/anaconda/envs/py36/lib/python3.6/site-packages (from azureml.opendatasets) (1.0.55)\nRequirement already satisfied: azureml-core==1.0.55.* in /data/anaconda/envs/py36/lib/python3.6/site-packages (from azureml.opendatasets) (1.0.55)\nRequirement already satisfied: multimethods in /data/anaconda/envs/py36/lib/python3.6/site-packages (from azureml.opendatasets) (1.0.0)\nRequirement already satisfied: azureml-dataprep<1.2.0a,>=1.1.9a in /data/anaconda/envs/py36/lib/python3.6/site-packages (from azureml.opendatasets) (1.1.11)\nRequirement already satisfied: pyspark in /data/anaconda/envs/py36/lib/python3.6/site-packages (from azureml.opendatasets) (2.4.3)\nRequirement already satisfied: azure-storage-blob in /data/anaconda/envs/py36/lib/python3.6/site-packages (from azureml.opendatasets) (2.0.1)\nRequirement already satisfied: pyarrow<0.14.0 in /data/anaconda/envs/py36/lib/python3.6/site-packages (from azureml.opendatasets) (0.13.0)\nRequirement already satisfied: numpy<=1.16.2,>=1.11.0 in /data/anaconda/envs/py36/lib/python3.6/site-packages (from azureml.opendatasets) (1.16.2)\nCollecting pandas<=0.23.4,>=0.21.0 (from azureml.opendatasets)\n  Using cached https://files.pythonhosted.org/packages/e1/d8/feeb346d41f181e83fba45224ab14a8d8af019b48af742e047f3845d8cff/pandas-0.23.4-cp36-cp36m-manylinux1_x86_64.whl\nRequirement already satisfied: scipy<=1.1.0,>=1.0.0 in /data/anaconda/envs/py36/lib/python3.6/site-packages (from azureml.opendatasets) (1.1.0)\nRequirement already satisfied: applicationinsights in /data/anaconda/envs/py36/lib/python3.6/site-packages (from azureml-telemetry==1.0.55.*->azureml.opendatasets) (0.11.9)\nRequirement already satisfied: azure-common>=1.1.12 in /data/anaconda/envs/py36/lib/python3.6/site-packages (from azureml-core==1.0.55.*->azureml.opendatasets) (1.1.23)\nRequirement already satisfied: SecretStorage in /data/anaconda/envs/py36/lib/python3.6/site-packages (from azureml-core==1.0.55.*->azureml.opendatasets) (3.1.1)\nRequirement already satisfied: pyopenssl in /data/anaconda/envs/py36/lib/python3.6/site-packages (from azureml-core==1.0.55.*->azureml.opendatasets) (19.0.0)\nRequirement already satisfied: six>=1.11.0 in /data/anaconda/envs/py36/lib/python3.6/site-packages (from azureml-core==1.0.55.*->azureml.opendatasets) (1.12.0)\nRequirement already satisfied: azure-mgmt-authorization>=0.40.0 in /data/anaconda/envs/py36/lib/python3.6/site-packages (from azureml-core==1.0.55.*->azureml.opendatasets) (0.60.0)\nRequirement already satisfied: urllib3>=1.23 in /data/anaconda/envs/py36/lib/python3.6/site-packages (from azureml-core==1.0.55.*->azureml.opendatasets) (1.25.3)\nRequirement already satisfied: contextlib2 in /data/anaconda/envs/py36/lib/python3.6/site-packages (from azureml-core==1.0.55.*->azureml.opendatasets) (0.5.5)\nRequirement already satisfied: pathspec in /data/anaconda/envs/py36/lib/python3.6/site-packages (from azureml-core==1.0.55.*->azureml.opendatasets) (0.5.9)\nRequirement already satisfied: ndg-httpsclient in /data/anaconda/envs/py36/lib/python3.6/site-packages (from azureml-core==1.0.55.*->azureml.opendatasets) (0.5.1)\nRequirement already satisfied: msrestazure>=0.4.33 in /data/anaconda/envs/py36/lib/python3.6/site-packages (from azureml-core==1.0.55.*->azureml.opendatasets) (0.6.1)\nRequirement already satisfied: azure-graphrbac>=0.40.0 in /data/anaconda/envs/py36/lib/python3.6/site-packages (from azureml-core==1.0.55.*->azureml.opendatasets) (0.61.1)\nRequirement already satisfied: python-dateutil>=2.7.3 in /data/anaconda/envs/py36/lib/python3.6/site-packages (from azureml-core==1.0.55.*->azureml.opendatasets) (2.8.0)\nRequirement already satisfied: pytz in /data/anaconda/envs/py36/lib/python3.6/site-packages (from azureml-core==1.0.55.*->azureml.opendatasets) (2019.1)\nRequirement already satisfied: cryptography!=1.9,!=2.0.*,!=2.1.*,!=2.2.* in /data/anaconda/envs/py36/lib/python3.6/site-packages (from azureml-core==1.0.55.*->azureml.opendatasets) (2.7)\nRequirement already satisfied: azure-mgmt-resource>=1.2.1 in /data/anaconda/envs/py36/lib/python3.6/site-packages (from azureml-core==1.0.55.*->azureml.opendatasets) (3.0.0)\nRequirement already satisfied: backports.tempfile in /data/anaconda/envs/py36/lib/python3.6/site-packages (from azureml-core==1.0.55.*->azureml.opendatasets) (1.0)\nRequirement already satisfied: msrest>=0.5.1 in /data/anaconda/envs/py36/lib/python3.6/site-packages (from azureml-core==1.0.55.*->azureml.opendatasets) (0.6.8)\nRequirement already satisfied: jsonpickle in /data/anaconda/envs/py36/lib/python3.6/site-packages (from azureml-core==1.0.55.*->azureml.opendatasets) (1.2)\nRequirement already satisfied: azure-mgmt-containerregistry>=2.0.0 in /data/anaconda/envs/py36/lib/python3.6/site-packages (from azureml-core==1.0.55.*->azureml.opendatasets) (2.8.0)\nRequirement already satisfied: azure-mgmt-keyvault>=0.40.0 in /data/anaconda/envs/py36/lib/python3.6/site-packages (from azureml-core==1.0.55.*->azureml.opendatasets) (2.0.0)\nRequirement already satisfied: PyJWT in /data/anaconda/envs/py36/lib/python3.6/site-packages (from azureml-core==1.0.55.*->azureml.opendatasets) (1.7.1)\nRequirement already satisfied: docker in /data/anaconda/envs/py36/lib/python3.6/site-packages (from azureml-core==1.0.55.*->azureml.opendatasets) (4.0.2)\nRequirement already satisfied: ruamel.yaml<=0.15.89,>=0.15.35 in /data/anaconda/envs/py36/lib/python3.6/site-packages (from azureml-core==1.0.55.*->azureml.opendatasets) (0.15.89)\nRequirement already satisfied: adal>=1.2.0 in /data/anaconda/envs/py36/lib/python3.6/site-packages (from azureml-core==1.0.55.*->azureml.opendatasets) (1.2.2)\nRequirement already satisfied: requests>=2.19.1 in /data/anaconda/envs/py36/lib/python3.6/site-packages (from azureml-core==1.0.55.*->azureml.opendatasets) (2.22.0)\nRequirement already satisfied: azure-mgmt-storage>=1.5.0 in /data/anaconda/envs/py36/lib/python3.6/site-packages (from azureml-core==1.0.55.*->azureml.opendatasets) (4.0.0)\nRequirement already satisfied: jmespath in /data/anaconda/envs/py36/lib/python3.6/site-packages (from azureml-core==1.0.55.*->azureml.opendatasets) (0.9.4)\nRequirement already satisfied: cloudpickle>=1.1.0 in /data/anaconda/envs/py36/lib/python3.6/site-packages (from azureml-dataprep<1.2.0a,>=1.1.9a->azureml.opendatasets) (1.2.1)\nRequirement already satisfied: azureml-dataprep-native<14.0.0,>=13.0.2 in /data/anaconda/envs/py36/lib/python3.6/site-packages (from azureml-dataprep<1.2.0a,>=1.1.9a->azureml.opendatasets) (13.0.2)\nRequirement already satisfied: dotnetcore2==2.1.8 in /data/anaconda/envs/py36/lib/python3.6/site-packages (from azureml-dataprep<1.2.0a,>=1.1.9a->azureml.opendatasets) (2.1.8)\nRequirement already satisfied: py4j==0.10.7 in /data/anaconda/envs/py36/lib/python3.6/site-packages (from pyspark->azureml.opendatasets) (0.10.7)\nRequirement already satisfied: azure-storage-common~=2.0 in /data/anaconda/envs/py36/lib/python3.6/site-packages (from azure-storage-blob->azureml.opendatasets) (2.0.0)\nRequirement already satisfied: jeepney in /data/anaconda/envs/py36/lib/python3.6/site-packages (from SecretStorage->azureml-core==1.0.55.*->azureml.opendatasets) (0.4)\nRequirement already satisfied: pyasn1>=0.1.1 in /data/anaconda/envs/py36/lib/python3.6/site-packages (from ndg-httpsclient->azureml-core==1.0.55.*->azureml.opendatasets) (0.4.5)\nRequirement already satisfied: cffi!=1.11.3,>=1.8 in /data/anaconda/envs/py36/lib/python3.6/site-packages (from cryptography!=1.9,!=2.0.*,!=2.1.*,!=2.2.*->azureml-core==1.0.55.*->azureml.opendatasets) (1.12.3)\nRequirement already satisfied: asn1crypto>=0.21.0 in /data/anaconda/envs/py36/lib/python3.6/site-packages (from cryptography!=1.9,!=2.0.*,!=2.1.*,!=2.2.*->azureml-core==1.0.55.*->azureml.opendatasets) (0.24.0)\nRequirement already satisfied: backports.weakref in /data/anaconda/envs/py36/lib/python3.6/site-packages (from backports.tempfile->azureml-core==1.0.55.*->azureml.opendatasets) (1.0.post1)\nRequirement already satisfied: isodate>=0.6.0 in /data/anaconda/envs/py36/lib/python3.6/site-packages (from msrest>=0.5.1->azureml-core==1.0.55.*->azureml.opendatasets) (0.6.0)\nRequirement already satisfied: requests-oauthlib>=0.5.0 in /data/anaconda/envs/py36/lib/python3.6/site-packages (from msrest>=0.5.1->azureml-core==1.0.55.*->azureml.opendatasets) (1.2.0)\n",
          "name": "stdout"
        },
        {
          "output_type": "stream",
          "text": "Requirement already satisfied: certifi>=2017.4.17 in /data/anaconda/envs/py36/lib/python3.6/site-packages (from msrest>=0.5.1->azureml-core==1.0.55.*->azureml.opendatasets) (2019.6.16)\nRequirement already satisfied: websocket-client>=0.32.0 in /data/anaconda/envs/py36/lib/python3.6/site-packages (from docker->azureml-core==1.0.55.*->azureml.opendatasets) (0.56.0)\nRequirement already satisfied: chardet<3.1.0,>=3.0.2 in /data/anaconda/envs/py36/lib/python3.6/site-packages (from requests>=2.19.1->azureml-core==1.0.55.*->azureml.opendatasets) (3.0.4)\nRequirement already satisfied: idna<2.9,>=2.5 in /data/anaconda/envs/py36/lib/python3.6/site-packages (from requests>=2.19.1->azureml-core==1.0.55.*->azureml.opendatasets) (2.8)\nRequirement already satisfied: distro>=1.2.0 in /data/anaconda/envs/py36/lib/python3.6/site-packages (from dotnetcore2==2.1.8->azureml-dataprep<1.2.0a,>=1.1.9a->azureml.opendatasets) (1.4.0)\nRequirement already satisfied: pycparser in /data/anaconda/envs/py36/lib/python3.6/site-packages (from cffi!=1.11.3,>=1.8->cryptography!=1.9,!=2.0.*,!=2.1.*,!=2.2.*->azureml-core==1.0.55.*->azureml.opendatasets) (2.19)\nRequirement already satisfied: oauthlib>=3.0.0 in /data/anaconda/envs/py36/lib/python3.6/site-packages (from requests-oauthlib>=0.5.0->msrest>=0.5.1->azureml-core==1.0.55.*->azureml.opendatasets) (3.0.2)\n\u001b[31mERROR: azureml-train-automl 1.0.45.1 has requirement azureml-core==1.0.45.*, but you'll have azureml-core 1.0.55 which is incompatible.\u001b[0m\n\u001b[31mERROR: azureml-train-automl 1.0.45.1 has requirement azureml-telemetry==1.0.45.*, but you'll have azureml-telemetry 1.0.55 which is incompatible.\u001b[0m\n\u001b[31mERROR: azureml-contrib-opendatasets 1.0.45 has requirement azureml-telemetry==1.0.45.*, but you'll have azureml-telemetry 1.0.55 which is incompatible.\u001b[0m\nInstalling collected packages: pandas, azureml.opendatasets\n  Found existing installation: pandas 0.25.0\n    Uninstalling pandas-0.25.0:\n      Successfully uninstalled pandas-0.25.0\nSuccessfully installed azureml.opendatasets pandas-0.23.4\n",
          "name": "stdout"
        }
      ]
    },
    {
      "metadata": {
        "trusted": true
      },
      "cell_type": "code",
      "source": "# Refer to https://docs.microsoft.com/en-us/python/api/azureml-opendatasets/azureml.opendatasets.noaaisdweather?view=azure-ml-py\nfrom azureml.opendatasets import NoaaIsdWeather\n\nfrom datetime import datetime\nfrom dateutil.relativedelta import relativedelta\n\nimport pandas as pd\nimport numpy as np",
      "execution_count": 67,
      "outputs": []
    },
    {
      "metadata": {
        "trusted": true
      },
      "cell_type": "code",
      "source": "pd.__version__",
      "execution_count": 68,
      "outputs": [
        {
          "output_type": "execute_result",
          "execution_count": 68,
          "data": {
            "text/plain": "'0.23.4'"
          },
          "metadata": {}
        }
      ]
    },
    {
      "metadata": {
        "trusted": true
      },
      "cell_type": "code",
      "source": "start_date = datetime.today() - relativedelta(days=11)\nend_date = datetime.today() - relativedelta(days=10) #datetime.today()",
      "execution_count": null,
      "outputs": []
    },
    {
      "metadata": {
        "trusted": true
      },
      "cell_type": "code",
      "source": "# Get list of weather stations (limited)\nisd = NoaaIsdWeather(start_date, end_date, cols=['countryOrRegion', 'stationName', 'latitude', 'longitude', 'usaf', 'wban'])\n\n# Read into Pandas data frame.\nisd_stations_df = isd.to_pandas_dataframe()",
      "execution_count": null,
      "outputs": []
    },
    {
      "metadata": {
        "trusted": true
      },
      "cell_type": "code",
      "source": "isd_stations_df.info()",
      "execution_count": 110,
      "outputs": [
        {
          "output_type": "error",
          "ename": "NameError",
          "evalue": "name 'isd_stations_df' is not defined",
          "traceback": [
            "\u001b[0;31m---------------------------------------------------------------------------\u001b[0m",
            "\u001b[0;31mNameError\u001b[0m                                 Traceback (most recent call last)",
            "\u001b[0;32m<ipython-input-110-278ea67b04a2>\u001b[0m in \u001b[0;36m<module>\u001b[0;34m\u001b[0m\n\u001b[0;32m----> 1\u001b[0;31m \u001b[0misd_stations_df\u001b[0m\u001b[0;34m.\u001b[0m\u001b[0minfo\u001b[0m\u001b[0;34m(\u001b[0m\u001b[0;34m)\u001b[0m\u001b[0;34m\u001b[0m\u001b[0;34m\u001b[0m\u001b[0m\n\u001b[0m",
            "\u001b[0;31mNameError\u001b[0m: name 'isd_stations_df' is not defined"
          ]
        }
      ]
    },
    {
      "metadata": {
        "trusted": true
      },
      "cell_type": "code",
      "source": "isd_stations_df.head(5)",
      "execution_count": null,
      "outputs": []
    },
    {
      "metadata": {
        "trusted": true
      },
      "cell_type": "code",
      "source": "isd_stations_df.drop_duplicates(subset=['countryOrRegion','stationName'], inplace=True)\nisd_stations_df.head(5)",
      "execution_count": null,
      "outputs": []
    },
    {
      "metadata": {
        "trusted": true
      },
      "cell_type": "code",
      "source": "# Get a list of Country/Region codes\nisd_stations_df['countryOrRegion'].sort_values()",
      "execution_count": null,
      "outputs": []
    },
    {
      "metadata": {
        "trusted": true
      },
      "cell_type": "code",
      "source": "# Look for an Australian station - we find out the country code is AS\nisd_stations_df[isd_stations_df['stationName'] == 'AMBERLEY']",
      "execution_count": null,
      "outputs": []
    },
    {
      "metadata": {
        "trusted": true,
        "scrolled": true
      },
      "cell_type": "code",
      "source": "isd_au_stations_df = isd_stations_df[isd_stations_df['countryOrRegion'] == 'AS']\nisd_au_stations_df.head(20)",
      "execution_count": null,
      "outputs": []
    },
    {
      "metadata": {},
      "cell_type": "markdown",
      "source": "The 'usaf' column appears to map to the [METAR ID](https://www.nco.ncep.noaa.gov/pmb/codes/nwprod/decoders/decod_shared/dictionaries_v3.2.0/metar.tbl)"
    },
    {
      "metadata": {
        "trusted": true
      },
      "cell_type": "markdown",
      "source": "# Calculate observations for a year"
    },
    {
      "metadata": {
        "trusted": true
      },
      "cell_type": "code",
      "source": "# Refer to https://docs.microsoft.com/en-us/python/api/azureml-opendatasets/azureml.opendatasets.noaaisdweather?view=azure-ml-py\nfrom azureml.opendatasets import NoaaIsdWeather\n\nfrom datetime import datetime\nfrom dateutil.relativedelta import relativedelta\nimport calendar\n\nimport numpy as np",
      "execution_count": 51,
      "outputs": []
    },
    {
      "metadata": {
        "trusted": true
      },
      "cell_type": "code",
      "source": "def get_yearmonth_df(year:int, month:int,region_code:str=None, cols=['countryOrRegion', 'stationName', 'latitude', 'longitude', 'usaf', 'wban', 'datetime', 'temperature']):\n    isd = NoaaIsdWeather(datetime(year,month,1,0,0,0), datetime(year,month,calendar.monthrange(2019, mth)[1],23,59,0), cols)\n    df = isd.to_pandas_dataframe()\n    \n    if region_code:\n        df = df[df['countryOrRegion'] == region_code]\n        \n    return df",
      "execution_count": 87,
      "outputs": []
    },
    {
      "metadata": {
        "trusted": true
      },
      "cell_type": "code",
      "source": "df = get_yearmonth_df(2019,1,'AS')\nlist(df.columns.values)",
      "execution_count": 88,
      "outputs": [
        {
          "output_type": "stream",
          "text": "ActivityStarted, to_pandas_dataframe\nActivityStarted, to_pandas_dataframe_in_worker\nTarget paths: ['/year=2019/month=1/']\nLooking for parquet files...\nReading them into Pandas dataframe...\nReading ISDWeather/year=2019/month=1/part-00043-tid-1618105420378542629-636f376a-1c2c-412c-947d-e3af600fde10-44928.c000.snappy.parquet under container isdweatherdatacontainer\nDone.\nActivityCompleted: Activity=to_pandas_dataframe_in_worker, HowEnded=Success, Duration=7798.52 [ms]\nActivityCompleted: Activity=to_pandas_dataframe, HowEnded=Success, Duration=7818.39 [ms]\n",
          "name": "stdout"
        },
        {
          "output_type": "execute_result",
          "execution_count": 88,
          "data": {
            "text/plain": "['latitude',\n 'countryOrRegion',\n 'longitude',\n 'datetime',\n 'wban',\n 'usaf',\n 'stationName',\n 'temperature']"
          },
          "metadata": {}
        }
      ]
    },
    {
      "metadata": {
        "trusted": true
      },
      "cell_type": "code",
      "source": "df.head(25)",
      "execution_count": 89,
      "outputs": [
        {
          "output_type": "execute_result",
          "execution_count": 89,
          "data": {
            "text/html": "<div>\n<style scoped>\n    .dataframe tbody tr th:only-of-type {\n        vertical-align: middle;\n    }\n\n    .dataframe tbody tr th {\n        vertical-align: top;\n    }\n\n    .dataframe thead th {\n        text-align: right;\n    }\n</style>\n<table border=\"1\" class=\"dataframe\">\n  <thead>\n    <tr style=\"text-align: right;\">\n      <th></th>\n      <th>latitude</th>\n      <th>countryOrRegion</th>\n      <th>longitude</th>\n      <th>datetime</th>\n      <th>wban</th>\n      <th>usaf</th>\n      <th>stationName</th>\n      <th>temperature</th>\n    </tr>\n  </thead>\n  <tbody>\n    <tr>\n      <th>11609</th>\n      <td>-32.567</td>\n      <td>AS</td>\n      <td>139.567</td>\n      <td>2019-01-01 01:00:00</td>\n      <td>99999</td>\n      <td>946840</td>\n      <td>YUNTA AIRSTRIP</td>\n      <td>30.4</td>\n    </tr>\n    <tr>\n      <th>11611</th>\n      <td>-32.571</td>\n      <td>AS</td>\n      <td>139.564</td>\n      <td>2019-01-01 01:30:00</td>\n      <td>99999</td>\n      <td>946840</td>\n      <td>YUNTA AIRSTRIP</td>\n      <td>30.5</td>\n    </tr>\n    <tr>\n      <th>11613</th>\n      <td>-32.567</td>\n      <td>AS</td>\n      <td>139.567</td>\n      <td>2019-01-01 02:00:00</td>\n      <td>99999</td>\n      <td>946840</td>\n      <td>YUNTA AIRSTRIP</td>\n      <td>31.0</td>\n    </tr>\n    <tr>\n      <th>11615</th>\n      <td>-32.567</td>\n      <td>AS</td>\n      <td>139.567</td>\n      <td>2019-01-01 04:00:00</td>\n      <td>99999</td>\n      <td>946840</td>\n      <td>YUNTA AIRSTRIP</td>\n      <td>35.2</td>\n    </tr>\n    <tr>\n      <th>11617</th>\n      <td>-32.571</td>\n      <td>AS</td>\n      <td>139.564</td>\n      <td>2019-01-01 04:30:00</td>\n      <td>99999</td>\n      <td>946840</td>\n      <td>YUNTA AIRSTRIP</td>\n      <td>35.2</td>\n    </tr>\n    <tr>\n      <th>11619</th>\n      <td>-32.567</td>\n      <td>AS</td>\n      <td>139.567</td>\n      <td>2019-01-01 05:00:00</td>\n      <td>99999</td>\n      <td>946840</td>\n      <td>YUNTA AIRSTRIP</td>\n      <td>35.3</td>\n    </tr>\n    <tr>\n      <th>11621</th>\n      <td>-32.567</td>\n      <td>AS</td>\n      <td>139.567</td>\n      <td>2019-01-01 07:00:00</td>\n      <td>99999</td>\n      <td>946840</td>\n      <td>YUNTA AIRSTRIP</td>\n      <td>36.2</td>\n    </tr>\n    <tr>\n      <th>11623</th>\n      <td>-32.571</td>\n      <td>AS</td>\n      <td>139.564</td>\n      <td>2019-01-01 07:30:00</td>\n      <td>99999</td>\n      <td>946840</td>\n      <td>YUNTA AIRSTRIP</td>\n      <td>36.2</td>\n    </tr>\n    <tr>\n      <th>11625</th>\n      <td>-32.567</td>\n      <td>AS</td>\n      <td>139.567</td>\n      <td>2019-01-01 08:00:00</td>\n      <td>99999</td>\n      <td>946840</td>\n      <td>YUNTA AIRSTRIP</td>\n      <td>35.9</td>\n    </tr>\n    <tr>\n      <th>11627</th>\n      <td>-32.567</td>\n      <td>AS</td>\n      <td>139.567</td>\n      <td>2019-01-01 10:00:00</td>\n      <td>99999</td>\n      <td>946840</td>\n      <td>YUNTA AIRSTRIP</td>\n      <td>31.9</td>\n    </tr>\n    <tr>\n      <th>11629</th>\n      <td>-32.571</td>\n      <td>AS</td>\n      <td>139.564</td>\n      <td>2019-01-01 10:30:00</td>\n      <td>99999</td>\n      <td>946840</td>\n      <td>YUNTA AIRSTRIP</td>\n      <td>32.0</td>\n    </tr>\n    <tr>\n      <th>11631</th>\n      <td>-32.567</td>\n      <td>AS</td>\n      <td>139.567</td>\n      <td>2019-01-01 11:00:00</td>\n      <td>99999</td>\n      <td>946840</td>\n      <td>YUNTA AIRSTRIP</td>\n      <td>31.0</td>\n    </tr>\n    <tr>\n      <th>11633</th>\n      <td>-32.567</td>\n      <td>AS</td>\n      <td>139.567</td>\n      <td>2019-01-01 13:00:00</td>\n      <td>99999</td>\n      <td>946840</td>\n      <td>YUNTA AIRSTRIP</td>\n      <td>24.1</td>\n    </tr>\n    <tr>\n      <th>11635</th>\n      <td>-32.571</td>\n      <td>AS</td>\n      <td>139.564</td>\n      <td>2019-01-01 13:30:00</td>\n      <td>99999</td>\n      <td>946840</td>\n      <td>YUNTA AIRSTRIP</td>\n      <td>24.2</td>\n    </tr>\n    <tr>\n      <th>11637</th>\n      <td>-32.567</td>\n      <td>AS</td>\n      <td>139.567</td>\n      <td>2019-01-01 14:00:00</td>\n      <td>99999</td>\n      <td>946840</td>\n      <td>YUNTA AIRSTRIP</td>\n      <td>23.0</td>\n    </tr>\n    <tr>\n      <th>11639</th>\n      <td>-32.567</td>\n      <td>AS</td>\n      <td>139.567</td>\n      <td>2019-01-01 16:00:00</td>\n      <td>99999</td>\n      <td>946840</td>\n      <td>YUNTA AIRSTRIP</td>\n      <td>20.0</td>\n    </tr>\n    <tr>\n      <th>11641</th>\n      <td>-32.571</td>\n      <td>AS</td>\n      <td>139.564</td>\n      <td>2019-01-01 16:30:00</td>\n      <td>99999</td>\n      <td>946840</td>\n      <td>YUNTA AIRSTRIP</td>\n      <td>20.1</td>\n    </tr>\n    <tr>\n      <th>11643</th>\n      <td>-32.567</td>\n      <td>AS</td>\n      <td>139.567</td>\n      <td>2019-01-01 17:00:00</td>\n      <td>99999</td>\n      <td>946840</td>\n      <td>YUNTA AIRSTRIP</td>\n      <td>19.4</td>\n    </tr>\n    <tr>\n      <th>11645</th>\n      <td>-32.567</td>\n      <td>AS</td>\n      <td>139.567</td>\n      <td>2019-01-01 19:00:00</td>\n      <td>99999</td>\n      <td>946840</td>\n      <td>YUNTA AIRSTRIP</td>\n      <td>17.7</td>\n    </tr>\n    <tr>\n      <th>11647</th>\n      <td>-32.571</td>\n      <td>AS</td>\n      <td>139.564</td>\n      <td>2019-01-01 19:30:00</td>\n      <td>99999</td>\n      <td>946840</td>\n      <td>YUNTA AIRSTRIP</td>\n      <td>17.7</td>\n    </tr>\n    <tr>\n      <th>11649</th>\n      <td>-32.567</td>\n      <td>AS</td>\n      <td>139.567</td>\n      <td>2019-01-01 20:00:00</td>\n      <td>99999</td>\n      <td>946840</td>\n      <td>YUNTA AIRSTRIP</td>\n      <td>17.4</td>\n    </tr>\n    <tr>\n      <th>11651</th>\n      <td>-32.567</td>\n      <td>AS</td>\n      <td>139.567</td>\n      <td>2019-01-01 22:00:00</td>\n      <td>99999</td>\n      <td>946840</td>\n      <td>YUNTA AIRSTRIP</td>\n      <td>22.5</td>\n    </tr>\n    <tr>\n      <th>11653</th>\n      <td>-32.571</td>\n      <td>AS</td>\n      <td>139.564</td>\n      <td>2019-01-01 22:30:00</td>\n      <td>99999</td>\n      <td>946840</td>\n      <td>YUNTA AIRSTRIP</td>\n      <td>22.6</td>\n    </tr>\n    <tr>\n      <th>11655</th>\n      <td>-32.567</td>\n      <td>AS</td>\n      <td>139.567</td>\n      <td>2019-01-01 23:00:00</td>\n      <td>99999</td>\n      <td>946840</td>\n      <td>YUNTA AIRSTRIP</td>\n      <td>24.3</td>\n    </tr>\n    <tr>\n      <th>11657</th>\n      <td>-32.567</td>\n      <td>AS</td>\n      <td>139.567</td>\n      <td>2019-01-02 01:00:00</td>\n      <td>99999</td>\n      <td>946840</td>\n      <td>YUNTA AIRSTRIP</td>\n      <td>29.5</td>\n    </tr>\n  </tbody>\n</table>\n</div>",
            "text/plain": "       latitude countryOrRegion  longitude            datetime   wban    usaf  \\\n11609   -32.567              AS    139.567 2019-01-01 01:00:00  99999  946840   \n11611   -32.571              AS    139.564 2019-01-01 01:30:00  99999  946840   \n11613   -32.567              AS    139.567 2019-01-01 02:00:00  99999  946840   \n11615   -32.567              AS    139.567 2019-01-01 04:00:00  99999  946840   \n11617   -32.571              AS    139.564 2019-01-01 04:30:00  99999  946840   \n11619   -32.567              AS    139.567 2019-01-01 05:00:00  99999  946840   \n11621   -32.567              AS    139.567 2019-01-01 07:00:00  99999  946840   \n11623   -32.571              AS    139.564 2019-01-01 07:30:00  99999  946840   \n11625   -32.567              AS    139.567 2019-01-01 08:00:00  99999  946840   \n11627   -32.567              AS    139.567 2019-01-01 10:00:00  99999  946840   \n11629   -32.571              AS    139.564 2019-01-01 10:30:00  99999  946840   \n11631   -32.567              AS    139.567 2019-01-01 11:00:00  99999  946840   \n11633   -32.567              AS    139.567 2019-01-01 13:00:00  99999  946840   \n11635   -32.571              AS    139.564 2019-01-01 13:30:00  99999  946840   \n11637   -32.567              AS    139.567 2019-01-01 14:00:00  99999  946840   \n11639   -32.567              AS    139.567 2019-01-01 16:00:00  99999  946840   \n11641   -32.571              AS    139.564 2019-01-01 16:30:00  99999  946840   \n11643   -32.567              AS    139.567 2019-01-01 17:00:00  99999  946840   \n11645   -32.567              AS    139.567 2019-01-01 19:00:00  99999  946840   \n11647   -32.571              AS    139.564 2019-01-01 19:30:00  99999  946840   \n11649   -32.567              AS    139.567 2019-01-01 20:00:00  99999  946840   \n11651   -32.567              AS    139.567 2019-01-01 22:00:00  99999  946840   \n11653   -32.571              AS    139.564 2019-01-01 22:30:00  99999  946840   \n11655   -32.567              AS    139.567 2019-01-01 23:00:00  99999  946840   \n11657   -32.567              AS    139.567 2019-01-02 01:00:00  99999  946840   \n\n          stationName  temperature  \n11609  YUNTA AIRSTRIP         30.4  \n11611  YUNTA AIRSTRIP         30.5  \n11613  YUNTA AIRSTRIP         31.0  \n11615  YUNTA AIRSTRIP         35.2  \n11617  YUNTA AIRSTRIP         35.2  \n11619  YUNTA AIRSTRIP         35.3  \n11621  YUNTA AIRSTRIP         36.2  \n11623  YUNTA AIRSTRIP         36.2  \n11625  YUNTA AIRSTRIP         35.9  \n11627  YUNTA AIRSTRIP         31.9  \n11629  YUNTA AIRSTRIP         32.0  \n11631  YUNTA AIRSTRIP         31.0  \n11633  YUNTA AIRSTRIP         24.1  \n11635  YUNTA AIRSTRIP         24.2  \n11637  YUNTA AIRSTRIP         23.0  \n11639  YUNTA AIRSTRIP         20.0  \n11641  YUNTA AIRSTRIP         20.1  \n11643  YUNTA AIRSTRIP         19.4  \n11645  YUNTA AIRSTRIP         17.7  \n11647  YUNTA AIRSTRIP         17.7  \n11649  YUNTA AIRSTRIP         17.4  \n11651  YUNTA AIRSTRIP         22.5  \n11653  YUNTA AIRSTRIP         22.6  \n11655  YUNTA AIRSTRIP         24.3  \n11657  YUNTA AIRSTRIP         29.5  "
          },
          "metadata": {}
        }
      ]
    },
    {
      "metadata": {
        "trusted": true
      },
      "cell_type": "code",
      "source": "df.info()",
      "execution_count": 111,
      "outputs": [
        {
          "output_type": "stream",
          "text": "<class 'pandas.core.frame.DataFrame'>\nInt64Index: 335952 entries, 11609 to 12020901\nData columns (total 8 columns):\nlatitude           335952 non-null float64\ncountryOrRegion    335952 non-null object\nlongitude          335952 non-null float64\ndatetime           335952 non-null datetime64[ns]\nwban               335952 non-null object\nusaf               335952 non-null object\nstationName        335952 non-null object\ntemperature        327850 non-null float64\ndtypes: datetime64[ns](1), float64(3), object(4)\nmemory usage: 33.1+ MB\n",
          "name": "stdout"
        }
      ]
    },
    {
      "metadata": {
        "trusted": true
      },
      "cell_type": "code",
      "source": "def calculate_weather_stats(df):    \n    df_base = df.dropna(subset=['temperature']).sort_values(by=['stationName', 'datetime'])\n    \n    grouped = df_base.groupby(['stationName', pd.Grouper(key='datetime', freq='M')])\n    monthly_minmax = grouped.agg({\n        'temperature':['min','max']\n    }).reset_index()\n    monthly_minmax.columns=['stationName','datetime','temperature_min','temperature_max']\n    print(monthly_minmax)\n    \n    grouped_daily = df_base.groupby(by=['stationName', pd.Grouper(key='datetime', freq='D')])\n    daily_minmax = grouped_daily.agg({\n        'temperature':['min','max']\n    }).reset_index()\n    daily_minmax.columns=['stationName','datetime','temperature_min','temperature_max']\n    print(daily_minmax)\n        ",
      "execution_count": 246,
      "outputs": []
    },
    {
      "metadata": {
        "trusted": true
      },
      "cell_type": "code",
      "source": "calculate_weather_stats(df)",
      "execution_count": 247,
      "outputs": [
        {
          "output_type": "stream",
          "text": "                       stationName   datetime  temperature_min  \\\n0                    ADELAIDE INTL 2019-01-31             13.6   \n1               ADELAIDE PARAFIELD 2019-01-31             12.3   \n2                     ADELE ISLAND 2019-01-31             23.4   \n3                     AIREYS INLET 2019-01-31             10.2   \n4                           ALBANY 2019-01-31             16.2   \n5                   ALBANY AIRPORT 2019-01-31              6.8   \n6                           ALBURY 2019-01-31             13.0   \n7                  ALBURY AEROPORT 2019-01-31             12.8   \n8                    ALICE SPRINGS 2019-01-31             18.0   \n9                         AMBERLEY 2019-01-31             17.0   \n10                       ANDAMOOKA 2019-01-31             19.0   \n11                     APPLETHORPE 2019-01-31             12.7   \n12                   ARARAT PRISON 2019-01-31             14.0   \n13                ARGYLE AERODROME 2019-01-31             22.2   \n14                       ARKAROOLA 2019-01-31             18.9   \n15   ARMIDALE (TREE GROUP NURSERY) 2019-01-31             17.9   \n16            ARMIDALE AIRPORT AWS 2019-01-31             13.1   \n17                   AUSTIN PLAINS 2019-01-31              8.0   \n18                          AVALON 2019-01-31             10.0   \n19                 AVALON  AIRPORT 2019-01-31             10.0   \n20                  AYR ALVA BEACH 2019-01-31             21.5   \n21            AYR DPI RESEARCH STN 2019-01-31             20.4   \n22         BADGERY'S CREEK AIRPORT 2019-01-31             17.0   \n23        BADGINGARRA RESEARCH STN 2019-01-31             10.9   \n24              BAIRNSDALE AIRPORT 2019-01-31              9.6   \n25                      BALLADONIA 2019-01-31             18.1   \n26              BALLARAT AERODROME 2019-01-31              6.9   \n27               BALLERA GAS FIELD 2019-01-31             23.7   \n28             BALLINA AIRPORT AWS 2019-01-31             17.1   \n29                       BALRANALD 2019-01-31             16.1   \n..                             ...        ...              ...   \n659                    WILLIAMTOWN 2019-01-31             18.0   \n660                  WILLIS ISLAND 2019-01-31             24.3   \n661  WILSONS PROMONTORY LIGHTHOUSE 2019-01-31             14.3   \n662                         WILUNA 2019-01-31             24.0   \n663                  WINDY HARBOUR 2019-01-31             15.2   \n664                 WINTON AIRPORT 2019-01-31             22.4   \n665                    WITCHCLIFFE 2019-01-31              8.6   \n666                      WITTENOOM 2019-01-31             25.4   \n667             WOLLONGONG AIRPORT 2019-01-31             16.7   \n668                   WONGAN HILLS 2019-01-31             17.2   \n669                      WONTHAGGI 2019-01-31             10.7   \n670       WOOLBROOK DANGLEMAH ROAD 2019-01-31             20.0   \n671                       WOOLSHED 2019-01-31             18.0   \n672                        WOOMERA 2019-01-31             16.0   \n673                   WUDINNA AERO 2019-01-31              8.7   \n674                     WULUNGURRU 2019-01-31             24.2   \n675                   WYNDHAM AERO 2019-01-31             22.3   \n676                WYNYARD AIRPORT 2019-01-31              3.2   \n677            YAMBA PILOT STATION 2019-01-31             19.7   \n678                        YANAKIE 2019-01-31              9.3   \n679   YANCO AGRICULTURAL INSTITUTE 2019-01-31             14.1   \n680                 YARRAM AIRPORT 2019-01-31              7.5   \n681           YARRAS MOUNT SEAVIEW 2019-01-31             21.0   \n682                     YARRAWONGA 2019-01-31             10.7   \n683          YEPPOON THE ESPLANADE 2019-01-31             23.2   \n684                        YONGALA 2019-01-31             14.0   \n685                           YORK 2019-01-31             16.6   \n686                  YOUNG AIRPORT 2019-01-31             13.2   \n687                       YUENDUMU 2019-01-31             26.0   \n688                 YUNTA AIRSTRIP 2019-01-31             11.4   \n\n     temperature_max  \n0               45.2  \n1               47.1  \n2               31.7  \n3               39.2  \n4               23.2  \n5               30.8  \n6               45.0  \n7               44.6  \n8               45.0  \n9               36.0  \n10              38.6  \n11              36.2  \n12              39.1  \n13              43.3  \n14              43.9  \n15              26.7  \n16              34.7  \n17              44.2  \n18              45.0  \n19              44.7  \n20              35.1  \n21              34.5  \n22              39.5  \n23              43.1  \n24              45.2  \n25              32.4  \n26              39.2  \n27              45.2  \n28              31.7  \n29              36.9  \n..               ...  \n659             42.0  \n660             30.8  \n661             36.7  \n662             40.1  \n663             20.8  \n664             41.6  \n665             33.5  \n666             46.7  \n667             39.7  \n668             35.6  \n669             35.1  \n670             27.0  \n671             33.1  \n672             47.2  \n673             46.5  \n674             45.5  \n675             42.0  \n676             32.1  \n677             30.5  \n678             41.8  \n679             45.1  \n680             43.7  \n681             40.3  \n682             44.5  \n683             29.1  \n684             34.6  \n685             33.9  \n686             42.6  \n687             36.5  \n688             45.0  \n\n[689 rows x 4 columns]\n          stationName   datetime  temperature_min  temperature_max\n0       ADELAIDE INTL 2019-01-01             16.0             29.0\n1       ADELAIDE INTL 2019-01-02             17.0             33.0\n2       ADELAIDE INTL 2019-01-03             23.0             39.0\n3       ADELAIDE INTL 2019-01-04             17.0             24.0\n4       ADELAIDE INTL 2019-01-05             13.6             22.0\n5       ADELAIDE INTL 2019-01-06             13.7             25.0\n6       ADELAIDE INTL 2019-01-07             13.6             24.0\n7       ADELAIDE INTL 2019-01-08             14.7             24.0\n8       ADELAIDE INTL 2019-01-09             14.0             25.0\n9       ADELAIDE INTL 2019-01-10             16.0             30.0\n10      ADELAIDE INTL 2019-01-11             21.5             37.0\n11      ADELAIDE INTL 2019-01-12             16.0             31.1\n12      ADELAIDE INTL 2019-01-13             16.0             33.4\n13      ADELAIDE INTL 2019-01-14             19.5             35.0\n14      ADELAIDE INTL 2019-01-15             21.0             39.0\n15      ADELAIDE INTL 2019-01-16             23.8             38.0\n16      ADELAIDE INTL 2019-01-17             22.0             38.0\n17      ADELAIDE INTL 2019-01-18             15.7             26.0\n18      ADELAIDE INTL 2019-01-19             16.9             28.1\n19      ADELAIDE INTL 2019-01-20             20.0             31.0\n20      ADELAIDE INTL 2019-01-21             21.6             30.0\n21      ADELAIDE INTL 2019-01-22             23.0             34.0\n22      ADELAIDE INTL 2019-01-23             27.7             39.0\n23      ADELAIDE INTL 2019-01-24             23.6             45.2\n24      ADELAIDE INTL 2019-01-25             17.0             26.0\n25      ADELAIDE INTL 2019-01-26             16.0             24.0\n26      ADELAIDE INTL 2019-01-27             15.0             24.0\n27      ADELAIDE INTL 2019-01-28             15.5             26.0\n28      ADELAIDE INTL 2019-01-29             16.9             30.0\n29      ADELAIDE INTL 2019-01-30             17.8             38.0\n...               ...        ...              ...              ...\n20163  YUNTA AIRSTRIP 2019-01-02             18.9             36.2\n20164  YUNTA AIRSTRIP 2019-01-03             27.0             40.5\n20165  YUNTA AIRSTRIP 2019-01-04             15.7             42.9\n20166  YUNTA AIRSTRIP 2019-01-05             12.3             28.7\n20167  YUNTA AIRSTRIP 2019-01-06             13.4             28.7\n20168  YUNTA AIRSTRIP 2019-01-07             15.6             29.7\n20169  YUNTA AIRSTRIP 2019-01-08             15.5             33.6\n20170  YUNTA AIRSTRIP 2019-01-09             11.4             28.5\n20171  YUNTA AIRSTRIP 2019-01-10             16.5             32.1\n20172  YUNTA AIRSTRIP 2019-01-11             27.2             39.9\n20173  YUNTA AIRSTRIP 2019-01-12             15.4             42.0\n20174  YUNTA AIRSTRIP 2019-01-13             17.3             36.4\n20175  YUNTA AIRSTRIP 2019-01-14             22.9             43.7\n20176  YUNTA AIRSTRIP 2019-01-15             23.2             45.0\n20177  YUNTA AIRSTRIP 2019-01-16             30.1             43.7\n20178  YUNTA AIRSTRIP 2019-01-17             25.5             43.8\n20179  YUNTA AIRSTRIP 2019-01-18             16.6             35.5\n20180  YUNTA AIRSTRIP 2019-01-19             18.6             32.0\n20181  YUNTA AIRSTRIP 2019-01-20             18.1             32.4\n20182  YUNTA AIRSTRIP 2019-01-21             21.7             38.8\n20183  YUNTA AIRSTRIP 2019-01-22             24.6             41.2\n20184  YUNTA AIRSTRIP 2019-01-23             24.4             42.1\n20185  YUNTA AIRSTRIP 2019-01-24             31.3             44.7\n20186  YUNTA AIRSTRIP 2019-01-25             21.9             41.8\n20187  YUNTA AIRSTRIP 2019-01-26             16.2             37.2\n20188  YUNTA AIRSTRIP 2019-01-27             12.7             21.4\n20189  YUNTA AIRSTRIP 2019-01-28             17.2             32.2\n20190  YUNTA AIRSTRIP 2019-01-29             20.1             36.4\n20191  YUNTA AIRSTRIP 2019-01-30             17.9             40.6\n20192  YUNTA AIRSTRIP 2019-01-31             13.0             29.5\n\n[20193 rows x 4 columns]\n",
          "name": "stdout"
        }
      ]
    },
    {
      "metadata": {
        "trusted": true
      },
      "cell_type": "code",
      "source": "for mth in range(1, 13):\n    print(calendar.monthrange(2019, mth)[1])",
      "execution_count": 14,
      "outputs": [
        {
          "output_type": "stream",
          "text": "31\n28\n31\n30\n31\n30\n31\n31\n30\n31\n30\n31\n",
          "name": "stdout"
        }
      ]
    },
    {
      "metadata": {
        "trusted": true
      },
      "cell_type": "code",
      "source": "start_date = datetime(2018,1,1)\nend_date = datetime(2018,12,31)",
      "execution_count": null,
      "outputs": []
    },
    {
      "metadata": {
        "trusted": true
      },
      "cell_type": "code",
      "source": "isd = NoaaIsdWeather(start_date, end_date)\n\n# Read into Pandas data frame.\nisd_df = isd.to_pandas_dataframe()",
      "execution_count": null,
      "outputs": []
    },
    {
      "metadata": {
        "trusted": true
      },
      "cell_type": "code",
      "source": "",
      "execution_count": null,
      "outputs": []
    }
  ],
  "metadata": {
    "kernelspec": {
      "name": "python3-azureml",
      "display_name": "Python 3.6 - AzureML",
      "language": "python"
    },
    "language_info": {
      "version": "3.6.8",
      "mimetype": "text/x-python",
      "codemirror_mode": {
        "name": "ipython",
        "version": 3
      },
      "nbconvert_exporter": "python",
      "pygments_lexer": "ipython3",
      "name": "python",
      "file_extension": ".py"
    }
  },
  "nbformat": 4,
  "nbformat_minor": 2
}